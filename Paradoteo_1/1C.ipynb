{
  "nbformat": 4,
  "nbformat_minor": 0,
  "metadata": {
    "colab": {
      "provenance": []
    },
    "kernelspec": {
      "name": "python3",
      "display_name": "Python 3"
    },
    "language_info": {
      "name": "python"
    }
  },
  "cells": [
    {
      "cell_type": "markdown",
      "source": [
        "# Παραδοτέο 1C\n",
        "\n",
        "---\n",
        "ΕΠΕΞΕΡΓΑΣΙΑ ΦΥΣΙΚΗΣ ΓΛΩΣΣΑΣ <br>\\\n",
        "Απαλλακτική Εργασία Σεπτεμβρίου 2025 <br>\n",
        "Γιαννακόπουλος Νικόλαος Ιωάννης | Π22029"
      ],
      "metadata": {
        "id": "IqVDUGYuyYOQ"
      }
    },
    {
      "cell_type": "markdown",
      "source": [
        "Απαραίτητες βιβλιοθήκες"
      ],
      "metadata": {
        "id": "yyVii63LydPN"
      }
    },
    {
      "cell_type": "code",
      "source": [
        "pip install jiwer bert_score"
      ],
      "metadata": {
        "id": "lpwweOjhuZoq"
      },
      "execution_count": null,
      "outputs": []
    },
    {
      "cell_type": "markdown",
      "source": [
        "Ο κώδικας"
      ],
      "metadata": {
        "id": "Q9qfsGAWyip3"
      }
    },
    {
      "cell_type": "code",
      "execution_count": 11,
      "metadata": {
        "colab": {
          "base_uri": "https://localhost:8080/",
          "height": 1000
        },
        "id": "JyOcpXCvuSfh",
        "outputId": "d52c0ea1-5aa0-4d05-d69f-a8ab420e4d68"
      },
      "outputs": [
        {
          "output_type": "stream",
          "name": "stdout",
          "text": [
            "Downloaded punkt_tab\n",
            "Downloaded punkt\n",
            "Downloaded stopwords\n",
            "Downloaded wordnet\n",
            "Loading SBERT model...\n",
            "SBERT model loaded successfully!\n",
            "Fitting TF-IDF vectorizer...\n",
            "Starting evaluation...\n"
          ]
        },
        {
          "output_type": "stream",
          "name": "stderr",
          "text": [
            "\rEvaluating pipelines:   0%|          | 0/4 [00:00<?, ?it/s]"
          ]
        },
        {
          "output_type": "stream",
          "name": "stdout",
          "text": [
            "Processing naive_reconstructed...\n"
          ]
        },
        {
          "output_type": "stream",
          "name": "stderr",
          "text": [
            "Some weights of RobertaModel were not initialized from the model checkpoint at roberta-large and are newly initialized: ['pooler.dense.bias', 'pooler.dense.weight']\n",
            "You should probably TRAIN this model on a down-stream task to be able to use it for predictions and inference.\n",
            "/usr/local/lib/python3.11/dist-packages/torch/nn/modules/module.py:1750: FutureWarning: `encoder_attention_mask` is deprecated and will be removed in version 4.55.0 for `RobertaSdpaSelfAttention.forward`.\n",
            "  return forward_call(*args, **kwargs)\n",
            "/usr/local/lib/python3.11/dist-packages/torch/nn/modules/module.py:1750: FutureWarning: `encoder_attention_mask` is deprecated and will be removed in version 4.55.0 for `BertSdpaSelfAttention.forward`.\n",
            "  return forward_call(*args, **kwargs)\n",
            "Some weights of RobertaModel were not initialized from the model checkpoint at roberta-large and are newly initialized: ['pooler.dense.bias', 'pooler.dense.weight']\n",
            "You should probably TRAIN this model on a down-stream task to be able to use it for predictions and inference.\n",
            "/usr/local/lib/python3.11/dist-packages/torch/nn/modules/module.py:1750: FutureWarning: `encoder_attention_mask` is deprecated and will be removed in version 4.55.0 for `RobertaSdpaSelfAttention.forward`.\n",
            "  return forward_call(*args, **kwargs)\n",
            "/usr/local/lib/python3.11/dist-packages/torch/nn/modules/module.py:1750: FutureWarning: `encoder_attention_mask` is deprecated and will be removed in version 4.55.0 for `BertSdpaSelfAttention.forward`.\n",
            "  return forward_call(*args, **kwargs)\n",
            "Evaluating pipelines:  25%|██▌       | 1/4 [00:03<00:09,  3.23s/it]"
          ]
        },
        {
          "output_type": "stream",
          "name": "stdout",
          "text": [
            "Processing t5_paraphraser...\n"
          ]
        },
        {
          "output_type": "stream",
          "name": "stderr",
          "text": [
            "Some weights of RobertaModel were not initialized from the model checkpoint at roberta-large and are newly initialized: ['pooler.dense.bias', 'pooler.dense.weight']\n",
            "You should probably TRAIN this model on a down-stream task to be able to use it for predictions and inference.\n",
            "/usr/local/lib/python3.11/dist-packages/torch/nn/modules/module.py:1750: FutureWarning: `encoder_attention_mask` is deprecated and will be removed in version 4.55.0 for `RobertaSdpaSelfAttention.forward`.\n",
            "  return forward_call(*args, **kwargs)\n",
            "/usr/local/lib/python3.11/dist-packages/torch/nn/modules/module.py:1750: FutureWarning: `encoder_attention_mask` is deprecated and will be removed in version 4.55.0 for `BertSdpaSelfAttention.forward`.\n",
            "  return forward_call(*args, **kwargs)\n",
            "Some weights of RobertaModel were not initialized from the model checkpoint at roberta-large and are newly initialized: ['pooler.dense.bias', 'pooler.dense.weight']\n",
            "You should probably TRAIN this model on a down-stream task to be able to use it for predictions and inference.\n",
            "/usr/local/lib/python3.11/dist-packages/torch/nn/modules/module.py:1750: FutureWarning: `encoder_attention_mask` is deprecated and will be removed in version 4.55.0 for `RobertaSdpaSelfAttention.forward`.\n",
            "  return forward_call(*args, **kwargs)\n",
            "/usr/local/lib/python3.11/dist-packages/torch/nn/modules/module.py:1750: FutureWarning: `encoder_attention_mask` is deprecated and will be removed in version 4.55.0 for `BertSdpaSelfAttention.forward`.\n",
            "  return forward_call(*args, **kwargs)\n",
            "Evaluating pipelines:  50%|█████     | 2/4 [00:05<00:05,  2.79s/it]"
          ]
        },
        {
          "output_type": "stream",
          "name": "stdout",
          "text": [
            "Processing bart_paraphrase...\n"
          ]
        },
        {
          "output_type": "stream",
          "name": "stderr",
          "text": [
            "Some weights of RobertaModel were not initialized from the model checkpoint at roberta-large and are newly initialized: ['pooler.dense.bias', 'pooler.dense.weight']\n",
            "You should probably TRAIN this model on a down-stream task to be able to use it for predictions and inference.\n",
            "/usr/local/lib/python3.11/dist-packages/torch/nn/modules/module.py:1750: FutureWarning: `encoder_attention_mask` is deprecated and will be removed in version 4.55.0 for `RobertaSdpaSelfAttention.forward`.\n",
            "  return forward_call(*args, **kwargs)\n",
            "/usr/local/lib/python3.11/dist-packages/torch/nn/modules/module.py:1750: FutureWarning: `encoder_attention_mask` is deprecated and will be removed in version 4.55.0 for `BertSdpaSelfAttention.forward`.\n",
            "  return forward_call(*args, **kwargs)\n",
            "Some weights of RobertaModel were not initialized from the model checkpoint at roberta-large and are newly initialized: ['pooler.dense.bias', 'pooler.dense.weight']\n",
            "You should probably TRAIN this model on a down-stream task to be able to use it for predictions and inference.\n",
            "/usr/local/lib/python3.11/dist-packages/torch/nn/modules/module.py:1750: FutureWarning: `encoder_attention_mask` is deprecated and will be removed in version 4.55.0 for `RobertaSdpaSelfAttention.forward`.\n",
            "  return forward_call(*args, **kwargs)\n",
            "/usr/local/lib/python3.11/dist-packages/torch/nn/modules/module.py:1750: FutureWarning: `encoder_attention_mask` is deprecated and will be removed in version 4.55.0 for `BertSdpaSelfAttention.forward`.\n",
            "  return forward_call(*args, **kwargs)\n",
            "Evaluating pipelines:  75%|███████▌  | 3/4 [00:08<00:02,  2.76s/it]"
          ]
        },
        {
          "output_type": "stream",
          "name": "stdout",
          "text": [
            "Processing grammar_correcter...\n"
          ]
        },
        {
          "output_type": "stream",
          "name": "stderr",
          "text": [
            "Some weights of RobertaModel were not initialized from the model checkpoint at roberta-large and are newly initialized: ['pooler.dense.bias', 'pooler.dense.weight']\n",
            "You should probably TRAIN this model on a down-stream task to be able to use it for predictions and inference.\n",
            "/usr/local/lib/python3.11/dist-packages/torch/nn/modules/module.py:1750: FutureWarning: `encoder_attention_mask` is deprecated and will be removed in version 4.55.0 for `RobertaSdpaSelfAttention.forward`.\n",
            "  return forward_call(*args, **kwargs)\n",
            "/usr/local/lib/python3.11/dist-packages/torch/nn/modules/module.py:1750: FutureWarning: `encoder_attention_mask` is deprecated and will be removed in version 4.55.0 for `BertSdpaSelfAttention.forward`.\n",
            "  return forward_call(*args, **kwargs)\n",
            "Some weights of RobertaModel were not initialized from the model checkpoint at roberta-large and are newly initialized: ['pooler.dense.bias', 'pooler.dense.weight']\n",
            "You should probably TRAIN this model on a down-stream task to be able to use it for predictions and inference.\n",
            "/usr/local/lib/python3.11/dist-packages/torch/nn/modules/module.py:1750: FutureWarning: `encoder_attention_mask` is deprecated and will be removed in version 4.55.0 for `RobertaSdpaSelfAttention.forward`.\n",
            "  return forward_call(*args, **kwargs)\n",
            "/usr/local/lib/python3.11/dist-packages/torch/nn/modules/module.py:1750: FutureWarning: `encoder_attention_mask` is deprecated and will be removed in version 4.55.0 for `BertSdpaSelfAttention.forward`.\n",
            "  return forward_call(*args, **kwargs)\n",
            "Evaluating pipelines: 100%|██████████| 4/4 [00:11<00:00,  2.95s/it]\n"
          ]
        },
        {
          "output_type": "stream",
          "name": "stdout",
          "text": [
            "\n",
            "Αποτελέσματα:\n",
            "                     Tok_Prec  Tok_Rec  Tok_F1    WER  BERT_F1  SBERT_Cos  \\\n",
            "Pipeline_Base                                                               \n",
            "bart_paraphrase         0.589    0.821   0.683  0.704    0.535      0.793   \n",
            "grammar_correcter       0.653    0.661   0.654  0.550    0.492      0.666   \n",
            "naive_reconstructed     0.833    0.881   0.856  0.300    0.745      0.937   \n",
            "t5_paraphraser          0.717    0.661   0.681  0.621    0.519      0.903   \n",
            "\n",
            "                     TFIDF_Cos  \n",
            "Pipeline_Base                   \n",
            "bart_paraphrase          0.487  \n",
            "grammar_correcter        0.420  \n",
            "naive_reconstructed      0.751  \n",
            "t5_paraphraser           0.611  \n"
          ]
        },
        {
          "output_type": "display_data",
          "data": {
            "text/plain": [
              "<Figure size 1400x800 with 1 Axes>"
            ],
            "image/png": "[encoded data removed]"
          },
          "metadata": {}
        },
        {
          "output_type": "stream",
          "name": "stdout",
          "text": [
            "\n",
            "Λεπτομερή Αποτελέσματα:\n",
            "                       Tok_Prec  Tok_Rec  Tok_F1    WER  BERT_F1  SBERT_Cos  \\\n",
            "Pipeline                                                                      \n",
            "naive_reconstructed_1     0.667    0.762   0.711  0.600    0.598      0.873   \n",
            "naive_reconstructed_2     1.000    1.000   1.000  0.000    0.893      1.000   \n",
            "t5_paraphraser_1          0.480    0.571   0.522  0.700    0.363      0.838   \n",
            "t5_paraphraser_2          0.955    0.750   0.840  0.542    0.675      0.967   \n",
            "bart_paraphrase_1         0.480    0.571   0.522  0.700    0.363      0.838   \n",
            "bart_paraphrase_2         0.698    1.071   0.845  0.708    0.708      0.747   \n",
            "grammar_correcter_1       0.625    0.714   0.667  0.600    0.464      0.838   \n",
            "grammar_correcter_2       0.680    0.607   0.642  0.500    0.521      0.495   \n",
            "\n",
            "                       TFIDF_Cos        Pipeline_Base  \n",
            "Pipeline                                               \n",
            "naive_reconstructed_1      0.502  naive_reconstructed  \n",
            "naive_reconstructed_2      1.000  naive_reconstructed  \n",
            "t5_paraphraser_1           0.352       t5_paraphraser  \n",
            "t5_paraphraser_2           0.870       t5_paraphraser  \n",
            "bart_paraphrase_1          0.352      bart_paraphrase  \n",
            "bart_paraphrase_2          0.622      bart_paraphrase  \n",
            "grammar_correcter_1        0.431    grammar_correcter  \n",
            "grammar_correcter_2        0.409    grammar_correcter  \n",
            "\n",
            "Καλύτερες Μέθοδοι ανά Μετρική:\n",
            "Tok_F1: naive_reconstructed (0.856)\n",
            "BERT_F1: naive_reconstructed (0.745)\n",
            "SBERT_Cos: naive_reconstructed (0.937)\n",
            "TFIDF_Cos: naive_reconstructed (0.751)\n",
            "WER: naive_reconstructed (0.300)\n"
          ]
        }
      ],
      "source": [
        "import pandas as pd\n",
        "import numpy as np\n",
        "import matplotlib.pyplot as plt\n",
        "import seaborn as sns\n",
        "import nltk\n",
        "from jiwer import wer  # για Word Error Rate\n",
        "from bert_score import score as bert_score  # για BERTScore\n",
        "from sentence_transformers import SentenceTransformer, util  # για SBERT Cosine Similarity\n",
        "from sklearn.feature_extraction.text import TfidfVectorizer  # για TF-IDF\n",
        "from sklearn.metrics.pairwise import cosine_similarity\n",
        "from tqdm import tqdm\n",
        "\n",
        "# Download required NLTK data\n",
        "nltk_data = ['punkt_tab', 'punkt', 'stopwords', 'wordnet']\n",
        "for resource in nltk_data:\n",
        "    try:\n",
        "        nltk.download(resource, quiet=True)\n",
        "        print(f\"Downloaded {resource}\")\n",
        "    except Exception as e:\n",
        "        print(f\"Warning: Could not download {resource}: {e}\")\n",
        "\n",
        "\n",
        "# Αρχικές προτάσεις\n",
        "default_sentence_1 = \"Thank you for forwarding our remarks to the doctor for his upcoming contract review on behalf of all of us.\"\n",
        "default_sentence_2 = \"We should be grateful, I mean all of us, for the acceptance and efforts until the Springer link came finally last week, I think.\"\n",
        "\n",
        "# Naive\n",
        "naive_sentence_1 = \"Thank you for your message to show our words to the doctor, during his next contract review, to all of us.\"\n",
        "naive_sentence_2 = \"We should be grateful, i mean all of us, for the acceptance and efforts until the springer link came finally last week, i think.\"\n",
        "\n",
        "# Vamsi/T5_Paraphrase_Paws\n",
        "t5_sentence_1 = \"Thank you for your message to show our words to the doctor, as his next contract checking, a couple of days ago.\"\n",
        "t5_sentence_2 = \"but we should be grateful for the acceptance and efforts until the Springer link finally came last week , I think .\"\n",
        "\n",
        "# eugenesiow/bart-paraphrase\n",
        "bart_sentence_1 = \"Thank you for your message to show our words to the doctor, as his next contract checking, a couple of days ago.\"\n",
        "bart_sentence_2 = \"We should be grateful, I mean all of us, for the acceptance and efforts until the Springer link finally came last week, if the doctor still plans to edit the acknowledgments section before sending it again, I believe.\"\n",
        "\n",
        "# prithivida/grammar_error_correcter_v1\n",
        "grammar_sentence_1 = \"Thank you for your message to show our words to the doctor, as his next contract check, to all of us.\"\n",
        "grammar_sentence_2 = \"We should be grateful, I mean all of us, for the new submission — the one we were waiting for since last autumn\"\n",
        "\n",
        "def ensure_list(x):\n",
        "    return x if isinstance(x, list) else [x]\n",
        "\n",
        "# Precision, Recall, F1 βάσει tokens with fallback tokenization\n",
        "def token_prf(cand: str, ref: str):\n",
        "    try:\n",
        "        cand_toks = nltk.word_tokenize(cand.lower())\n",
        "        ref_toks = nltk.word_tokenize(ref.lower())\n",
        "    except LookupError:\n",
        "        # Fallback tokenization if NLTK fails\n",
        "        print(\"Warning: NLTK tokenizer not available, using simple split\")\n",
        "        cand_toks = cand.lower().split()\n",
        "        ref_toks = ref.lower().split()\n",
        "\n",
        "    if not cand_toks or not ref_toks:\n",
        "        return 0.0, 0.0, 0.0\n",
        "\n",
        "    matches = sum(1 for t in cand_toks if t in ref_toks)\n",
        "    P = matches / len(cand_toks)\n",
        "    R = matches / len(ref_toks)\n",
        "    if((P + R) > 0):\n",
        "        F1 = 2 * P * R / (P + R)\n",
        "    else:\n",
        "        F1 = 0.0\n",
        "\n",
        "    return P, R, F1\n",
        "\n",
        "# Word Error Rate | χαμηλότερο = καλύτερο\n",
        "def wer_score(cand: str, ref: str):\n",
        "    return wer(ref.lower(), cand.lower())\n",
        "\n",
        "# SBERT\n",
        "print(\"Loading SBERT model...\")\n",
        "sbert = SentenceTransformer('all-MiniLM-L6-v2')\n",
        "print(\"SBERT model loaded successfully!\")\n",
        "\n",
        "def sbert_cosine(cand: str, ref: str):\n",
        "    emb_c = sbert.encode(cand, convert_to_tensor=True)\n",
        "    emb_r = sbert.encode(ref, convert_to_tensor=True)\n",
        "    return util.pytorch_cos_sim(emb_c, emb_r).item()\n",
        "\n",
        "# Prepare all texts for TF-IDF\n",
        "all_texts = [\n",
        "    default_sentence_1, default_sentence_2,\n",
        "    naive_sentence_1, naive_sentence_2,\n",
        "    t5_sentence_1, t5_sentence_2,\n",
        "    bart_sentence_1, bart_sentence_2,\n",
        "    grammar_sentence_1, grammar_sentence_2\n",
        "]\n",
        "\n",
        "print(\"Fitting TF-IDF vectorizer...\")\n",
        "tfidf = TfidfVectorizer().fit(all_texts)\n",
        "\n",
        "# TF-IDF cosine similarity\n",
        "def tfidf_cosine(cand: str, ref: str):\n",
        "    v = tfidf.transform([cand, ref])\n",
        "    return cosine_similarity(v[0], v[1])[0, 0]\n",
        "\n",
        "# Define pipelines\n",
        "pipelines = [\n",
        "    ('naive_reconstructed', [naive_sentence_1], [naive_sentence_2]),\n",
        "    ('t5_paraphraser', [t5_sentence_1], [t5_sentence_2]),\n",
        "    ('bart_paraphrase', [bart_sentence_1], [bart_sentence_2]),\n",
        "    ('grammar_correcter', [grammar_sentence_1], [grammar_sentence_2]),\n",
        "]\n",
        "\n",
        "records = []\n",
        "\n",
        "print(\"Starting evaluation...\")\n",
        "\n",
        "# Για κάθε pipeline και πρόταση\n",
        "for name, gen1, gen2 in tqdm(pipelines, desc=\"Evaluating pipelines\"):\n",
        "    print(f\"Processing {name}...\")\n",
        "\n",
        "    # Πρόταση 1\n",
        "    try:\n",
        "        p, r, f1 = token_prf(gen1[0], default_sentence_1)\n",
        "        w = wer_score(gen1[0], default_sentence_1)\n",
        "        _, _, fb1 = bert_score([gen1[0]], [default_sentence_1], lang='en', rescale_with_baseline=True)\n",
        "        sb = sbert_cosine(gen1[0], default_sentence_1)\n",
        "        tc = tfidf_cosine(gen1[0], default_sentence_1)\n",
        "\n",
        "        records.append({\n",
        "            'Pipeline': f\"{name}_1\",\n",
        "            'Tok_Prec': p, 'Tok_Rec': r, 'Tok_F1': f1,\n",
        "            'WER': w, 'BERT_F1': fb1.item(),\n",
        "            'SBERT_Cos': sb, 'TFIDF_Cos': tc,\n",
        "        })\n",
        "    except Exception as e:\n",
        "        print(f\"Error processing {name}_1: {e}\")\n",
        "        continue\n",
        "\n",
        "    # Πρόταση 2\n",
        "    try:\n",
        "        p, r, f1 = token_prf(gen2[0], default_sentence_2)\n",
        "        w = wer_score(gen2[0], default_sentence_2)\n",
        "        _, _, fb2 = bert_score([gen2[0]], [default_sentence_2], lang='en', rescale_with_baseline=True)\n",
        "        sb = sbert_cosine(gen2[0], default_sentence_2)\n",
        "        tc = tfidf_cosine(gen2[0], default_sentence_2)\n",
        "\n",
        "        records.append({\n",
        "            'Pipeline': f\"{name}_2\",\n",
        "            'Tok_Prec': p, 'Tok_Rec': r, 'Tok_F1': f1,\n",
        "            'WER': w, 'BERT_F1': fb2.item(),\n",
        "            'SBERT_Cos': sb, 'TFIDF_Cos': tc,\n",
        "        })\n",
        "    except Exception as e:\n",
        "        print(f\"Error processing {name}_2: {e}\")\n",
        "        continue\n",
        "\n",
        "# Μετατροπή σε DataFrame\n",
        "if records:\n",
        "    df = pd.DataFrame(records)\n",
        "\n",
        "    # Μέση τιμή ανά pipeline (group by pipeline name without _1/_2 suffix)\n",
        "    df['Pipeline_Base'] = df['Pipeline'].str.replace('_[12]$', '', regex=True)\n",
        "\n",
        "    # Select only numeric columns for aggregation\n",
        "    numeric_cols = ['Tok_Prec', 'Tok_Rec', 'Tok_F1', 'WER', 'BERT_F1', 'SBERT_Cos', 'TFIDF_Cos']\n",
        "    summary = df.groupby('Pipeline_Base')[numeric_cols].mean().reset_index()\n",
        "\n",
        "    print(\"\\nΑποτελέσματα:\")\n",
        "    print(summary.set_index('Pipeline_Base').round(3))\n",
        "\n",
        "    # Visualization\n",
        "    metrics = ['Tok_F1', 'WER', 'BERT_F1', 'SBERT_Cos', 'TFIDF_Cos']\n",
        "    x = np.arange(len(summary))\n",
        "    width = 0.15\n",
        "\n",
        "    plt.figure(figsize=(14, 8))\n",
        "    for i, m in enumerate(metrics):\n",
        "        plt.bar(x + i * width, summary[m], width, label=m)\n",
        "\n",
        "    plt.xticks(x + width * (len(metrics) - 1) / 2, summary['Pipeline_Base'], rotation=45, ha='right')\n",
        "    plt.ylabel('Score')\n",
        "    plt.title('Σύγκριση Μεθόδων Ανακατασκευής Κειμένου')\n",
        "    plt.legend()\n",
        "    plt.grid(True, alpha=0.3)\n",
        "    plt.tight_layout()\n",
        "    plt.show()\n",
        "\n",
        "    # Additional detailed results table\n",
        "    print(\"\\nΛεπτομερή Αποτελέσματα:\")\n",
        "    print(df.set_index('Pipeline').round(3))\n",
        "\n",
        "    # Best performing methods per metric\n",
        "    print(\"\\nΚαλύτερες Μέθοδοι ανά Μετρική:\")\n",
        "    for metric in ['Tok_F1', 'BERT_F1', 'SBERT_Cos', 'TFIDF_Cos']:\n",
        "        best_method = summary.loc[summary[metric].idxmax(), 'Pipeline_Base']\n",
        "        best_score = summary[metric].max()\n",
        "        print(f\"{metric}: {best_method} ({best_score:.3f})\")\n",
        "\n",
        "    # For WER (lower is better)\n",
        "    best_method_wer = summary.loc[summary['WER'].idxmin(), 'Pipeline_Base']\n",
        "    best_score_wer = summary['WER'].min()\n",
        "    print(f\"WER: {best_method_wer} ({best_score_wer:.3f})\")\n",
        "else:\n",
        "    print(\"No results to display - all evaluations failed!\")"
      ]
    }
  ]
}